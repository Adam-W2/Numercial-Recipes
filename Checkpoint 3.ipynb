{
 "cells": [
  {
   "cell_type": "markdown",
   "id": "average-yellow",
   "metadata": {
    "deletable": false,
    "editable": false,
    "nbgrader": {
     "cell_type": "markdown",
     "checksum": "3c92013a4ee5f0da23f9967a0a2f1181",
     "grade": false,
     "grade_id": "cell-55bee5a8d4c1beb1",
     "locked": true,
     "schema_version": 3,
     "solution": false,
     "task": false
    }
   },
   "source": [
    "# Checkpoint 3\n",
    "\n",
    "**Due: Friday, 2 December, 2022 at 5:00pm GMT**\n",
    "\n",
    "Total points: 100\n",
    "\n",
    "### Read This First\n",
    "1. Use the constants provided in the cells. Do not use your own constants.\n",
    "\n",
    "2. Wherever you see `raise NotImplementedError()`, remove that line and put your code there.\n",
    "\n",
    "3. Put the code that produces the output for a given task in the cell indicated. You are welcome to add as many cells as you like for imports, function definitions, variables, etc. Do not alter the argument list of functions that are given to you.\n",
    "\n",
    "4. Your notebook must run correctly when executed once from start to finish. Your notebook will be graded based on how it runs, not how it looks when you submit it. To test this, go to the *Kernel* menu and select *Restart & Run All*.\n",
    "\n",
    "5. Once you are happy with it, clear the output by selecting *Restart & Clear Output* from the *Kernel* menu.\n",
    "\n",
    "6. Submit through Noteable."
   ]
  },
  {
   "cell_type": "code",
   "execution_count": null,
   "id": "rocky-dietary",
   "metadata": {},
   "outputs": [],
   "source": [
    "from matplotlib import pyplot as plt\n",
    "%matplotlib inline\n",
    "import numpy as np\n",
    "import time"
   ]
  },
  {
   "cell_type": "code",
   "execution_count": null,
   "id": "restricted-railway",
   "metadata": {},
   "outputs": [],
   "source": [
    "plt.rcParams['figure.figsize'] = (10, 6)\n",
    "plt.rcParams['font.size'] = 14"
   ]
  },
  {
   "cell_type": "markdown",
   "id": "binary-drink",
   "metadata": {
    "deletable": false,
    "editable": false,
    "nbgrader": {
     "cell_type": "markdown",
     "checksum": "45e515044c692dca872fa8c36187221f",
     "grade": false,
     "grade_id": "cell-d180244b9674c6a3",
     "locked": true,
     "schema_version": 3,
     "solution": false,
     "task": false
    }
   },
   "source": [
    "## Problem 1: the flight of batted baseballs (50 pts)\n",
    "\n",
    "Batted baseballs experience enough air resistance to alter their paths from a simple parabolic motion. To properly model the flight of a baseball, we must consider the drag force, which is defined as\n",
    "\n",
    "$\n",
    "\\begin{align}\n",
    "\\large\n",
    "F_{D} = -\\frac{1}{2} C_{D} A \\rho v^{2},\n",
    "\\end{align}\n",
    "$\n",
    "\n",
    "where $C_{D}$ is the drag coefficient, $A$ is the cross-sectional area of the ball, $\\rho$ is the density of air, and $v$ is the velocity of the ball relative to the air. The drag force is oriented opposite to the velocity of the ball.\n",
    "\n",
    "The system of equations describing the motion of an object experiencing the forces of gravity and air resistance is given by\n",
    "\n",
    "$\n",
    "\\begin{align}\n",
    "\\large\n",
    "\\frac{dx}{dt} = v_{x}\n",
    "\\end{align}\n",
    "$\n",
    "\n",
    "$\n",
    "\\begin{align}\n",
    "\\large\n",
    "\\frac{dy}{dt} = v_{y}\n",
    "\\end{align}\n",
    "$\n",
    "\n",
    "$\n",
    "\\begin{align}\n",
    "\\large\n",
    "\\frac{dv_{x}}{dt} = \\frac{F_{D_x}}{m}\n",
    "\\end{align}\n",
    "$\n",
    "\n",
    "$\n",
    "\\begin{align}\n",
    "\\large\n",
    "\\frac{dv_{y}}{dt} = \\frac{F_{D_y}}{m} - g\n",
    "\\end{align}\n",
    "$\n",
    "\n",
    "where $F_{D_x}$ and $F_{D_y}$ are the $x$ and $y$ components of the drag force and $m$ is the mass of the ball.\n",
    "\n",
    "The cell below defines a function describing simple projectile motion without air resistance."
   ]
  },
  {
   "cell_type": "code",
   "execution_count": null,
   "id": "pending-crowd",
   "metadata": {
    "deletable": false,
    "editable": false,
    "nbgrader": {
     "cell_type": "code",
     "checksum": "8f83a2154d3a5c9ed6f7292e6fd0b18f",
     "grade": false,
     "grade_id": "cell-097ec963330345c0",
     "locked": true,
     "schema_version": 3,
     "solution": false,
     "task": false
    }
   },
   "outputs": [],
   "source": [
    "g = 9.80665 # m/s^2\n",
    "def projectile_motion(t, f):\n",
    "    \"\"\"\n",
    "    f0 = x  => dx/dt  = vx\n",
    "    f1 = y  => dy/dt  = vy\n",
    "    f2 = vx => dvx/dt = 0\n",
    "    f3 = vy => dvy/dt = - g\n",
    "    \"\"\"\n",
    "    \n",
    "    vals = np.zeros_like(f)\n",
    "    vals[0] = f[2]\n",
    "    vals[1] = f[3]\n",
    "    vals[2] = 0\n",
    "    vals[3] = - g\n",
    "\n",
    "    return vals"
   ]
  },
  {
   "cell_type": "markdown",
   "id": "built-giving",
   "metadata": {
    "deletable": false,
    "editable": false,
    "nbgrader": {
     "cell_type": "markdown",
     "checksum": "b911d0e803f0c703c9bdc3c1d4719d7f",
     "grade": false,
     "grade_id": "cell-cf575eba7182a408",
     "locked": true,
     "schema_version": 3,
     "solution": false,
     "task": false
    }
   },
   "source": [
    "## Task 1: 20 pts\n",
    "\n",
    "Compute the motion of a batted ball **experiencing air resistance** under the following conditions.\n",
    "\n",
    "1. The initial position of the ball is x = 0 m and y = 1 m (the approximate height of a hittable pitch).\n",
    "2. The initial velocity of the ball is 50 m/s at an angle of 42 degrees with respect to the ground.\n",
    "3. The ball will land in the seating area beyond the field of play. Nearest to the field, the seats are at a height of 3.5 m up from the ground. The ball should be considered to have landed when it reaches this height (3.5 m).\n",
    "\n",
    "To do this you must define a new system of equations describing the motion of the ball under gravity and air resistance. You may start with the `projectile_motion` defined function above if you like. The relevant constants are provided in the cell below. Use these in your calculation.\n",
    "\n",
    "In the cell with `task1`, write a function that returns the time of flight in seconds and the final x displacement of the baseball in meters when it lands in the stands. This function should accept two arguments: the initial speed of the baseball in m/s and the initial angle in degrees. **Do not modify the existing argument list for the `task1` function.** In a subsequent cell, we will call your function with the initial conditions given above. Refer to the testing cell to see how the function will be called.\n",
    "\n",
    "Your answers must be within 0.1 s and 0.1 m of the correct time and displacement, which are not given."
   ]
  },
  {
   "cell_type": "code",
   "execution_count": null,
   "id": "chief-institute",
   "metadata": {
    "deletable": false,
    "editable": false,
    "nbgrader": {
     "cell_type": "code",
     "checksum": "2809c93b532a758df58eeba9d7301b96",
     "grade": false,
     "grade_id": "cell-dc54e08cd8846550",
     "locked": true,
     "schema_version": 3,
     "solution": false,
     "task": false
    }
   },
   "outputs": [],
   "source": [
    "# baseballs\n",
    "m = 0.145 # mass in kg\n",
    "c = 23.2  # circumference in cm\n",
    "r = c / 2 / np.pi\n",
    "A = np.pi * (r)**2 / 10000 # m^2\n",
    "Cd = 0.34\n",
    "\n",
    "# Earth-related constants\n",
    "rhoE = 1.18 # air density at sea level kg/m^3\n",
    "g = 9.80665 # m/s^2"
   ]
  },
  {
   "cell_type": "code",
   "execution_count": null,
   "id": "2499eda9",
   "metadata": {},
   "outputs": [],
   "source": [
    "from scipy.integrate import solve_ivp"
   ]
  },
  {
   "cell_type": "code",
   "execution_count": null,
   "id": "18e55614",
   "metadata": {},
   "outputs": [],
   "source": [
    "def projectile_motion_drag(t, f):\n",
    "    \"\"\"\n",
    "    Similiar function to one above but with added drag\n",
    "    \n",
    "    f0 = x  => dx/dt  = vx\n",
    "    f1 = y  => dy/dt  = vy\n",
    "    f2 = vx => dvx/dt = Fx/m\n",
    "    f3 = vy => dvy/dt = Fy/m - g\n",
    "    \"\"\"\n",
    "    #setting up drag forces\n",
    "    v = np.sqrt(f[2]**2 + f[3]**2)\n",
    "    Fx = -1/2 * Cd * A *rhoE * f[2]*v\n",
    "    Fy = -1/2 * Cd * A *rhoE * f[3]*v\n",
    "    \n",
    "    vals = np.zeros_like(f)\n",
    "    vals[0] = f[2]\n",
    "    vals[1] = f[3]\n",
    "    vals[2] = Fx/m\n",
    "    vals[3] = Fy/m - g\n",
    "\n",
    "    return vals\n",
    "\n",
    "#define event to stop when the balls reaches 3.5 meters while moving in the negative direction\n",
    "def y_distance(t,f):\n",
    "    return f[1] - 3.5\n",
    "y_distance.terminal = True\n",
    "y_distance.direction = -1"
   ]
  },
  {
   "cell_type": "code",
   "execution_count": null,
   "id": "alleged-homeless",
   "metadata": {
    "deletable": false,
    "nbgrader": {
     "cell_type": "code",
     "checksum": "d8b1809c61349a05fbf808ab09363595",
     "grade": false,
     "grade_id": "cell-4d9a131a9715305b",
     "locked": false,
     "schema_version": 3,
     "solution": true,
     "task": false
    }
   },
   "outputs": [],
   "source": [
    "def task1(vi, theta):\n",
    "    #trigonometry to access x and y components (convert to radians)\n",
    "    vx = vi * np.cos(np.radians(theta))\n",
    "    vy = vi * np.sin(np.radians(theta))\n",
    "    \n",
    "    #create arrays for inital conditions\n",
    "    fi = np.array([0,1,vx,vy])\n",
    "    tvalues = np.linspace(0,10,1000)\n",
    "    \n",
    "    #solve using scipy integrate solve_ivp\n",
    "    sol = solve_ivp(projectile_motion_drag, (0, 10), fi,t_eval = tvalues,events=(y_distance), dense_output=True)\n",
    "\n",
    "    return sol.t.max(), sol.y[0].max()"
   ]
  },
  {
   "cell_type": "code",
   "execution_count": null,
   "id": "desirable-artist",
   "metadata": {
    "deletable": false,
    "editable": false,
    "nbgrader": {
     "cell_type": "code",
     "checksum": "626228006a84572e1ea7bb6b16a26797",
     "grade": true,
     "grade_id": "cell-91859c9eb84316d5",
     "locked": true,
     "points": 0,
     "schema_version": 3,
     "solution": false,
     "task": false
    }
   },
   "outputs": [],
   "source": [
    "vi = 50 # m/s\n",
    "theta = 42 # degrees\n",
    "\n",
    "tfinal1, xfinal1 = task1(vi, theta)\n",
    "print (f\"Flight time: {tfinal1} s.\")\n",
    "print (f\"Final x displacement: {xfinal1} m.\")\n",
    "\n",
    "# We will test against the correct answer.\n"
   ]
  },
  {
   "cell_type": "markdown",
   "id": "alternative-trinidad",
   "metadata": {
    "deletable": false,
    "editable": false,
    "nbgrader": {
     "cell_type": "markdown",
     "checksum": "b95dd544c5df633dbb1206885e72f1bb",
     "grade": false,
     "grade_id": "cell-f41fefbf1aebdd4e",
     "locked": true,
     "schema_version": 3,
     "solution": false,
     "task": false
    }
   },
   "source": [
    "## Task 2: 20 pts\n",
    "\n",
    "Can you hit a ball that will land in the same spot in half the time?\n",
    "\n",
    "In the cell below with `task2`, write a function that computes the initial speed and angle required for a ball to land in the same spot as in Task 1. This function should accept a single argument, the desired flight time in seconds. **Do not modify the argument list of `task2`.** The function should return the initial speed in m/s and initial angle in degrees. Refer to the testing cell below to see how the function will be called and tested. Your answer should result in a flight time that is half of the flight time from task 1 to within 1%."
   ]
  },
  {
   "cell_type": "code",
   "execution_count": null,
   "id": "19dc71ab",
   "metadata": {},
   "outputs": [],
   "source": [
    "from scipy.integrate import solve_bvp"
   ]
  },
  {
   "cell_type": "code",
   "execution_count": null,
   "id": "5c3cbcd7",
   "metadata": {},
   "outputs": [],
   "source": [
    "def projectile_motion_drag2(x, y):\n",
    "    \"\"\"\n",
    "    Used same function as above but changed it so can be used with solve_bvp\n",
    "    \n",
    "    f0 = x  => dx/dt  = vx\n",
    "    f1 = y  => dy/dt  = vy\n",
    "    f2 = vx => dvx/dt = Fx/m\n",
    "    f3 = vy => dvy/dt = Fy/m - g\n",
    "    \"\"\"\n",
    "    v = np.sqrt(y[2]**2 + y[3]**2)\n",
    "    Fx = -1/2 * Cd * A *rhoE * y[2]*v\n",
    "    Fy = -1/2 * Cd * A *rhoE * y[3]*v\n",
    "    \n",
    "    vals = np.zeros_like(y)\n",
    "    a = y[2]\n",
    "    b = y[3]\n",
    "    c = Fx/m\n",
    "    d = Fy/m - g\n",
    "\n",
    "    return np.vstack((a,b,c,d))\n",
    "\n",
    "#define the boundary conditions\n",
    "def bc(ya,yb):\n",
    "    return np.array([ya[0], ya[1]-1,yb[1]-3.5,yb[0] -xfinal1])"
   ]
  },
  {
   "cell_type": "code",
   "execution_count": null,
   "id": "fae44858",
   "metadata": {
    "deletable": false,
    "nbgrader": {
     "cell_type": "code",
     "checksum": "c6300847247dc7738f6b9292c51c8f36",
     "grade": false,
     "grade_id": "cell-f56452e0b8fce6e0",
     "locked": false,
     "schema_version": 3,
     "solution": true,
     "task": false
    }
   },
   "outputs": [],
   "source": [
    "def task2(tflight):\n",
    "    x = np.linspace(0, tflight, 100)\n",
    "    y = np.zeros((4, x.size))\n",
    "    \n",
    "    #setting initial guess\n",
    "    y[1] = 1\n",
    "    y[2] = 60\n",
    "    y[3] = 60\n",
    "    \n",
    "    sol = solve_bvp(projectile_motion_drag2, bc, x, y)\n",
    "    \n",
    "    #final answer using trig, converting back to degrees in return statement\n",
    "    v_i = np.sqrt(sol.y[2][0]**2 + sol.y[3][0]**2)\n",
    "    theta_i = np.arctan2(sol.y[3][0],sol.y[2][0])\n",
    "\n",
    "    return v_i,np.degrees(theta_i)"
   ]
  },
  {
   "cell_type": "code",
   "execution_count": null,
   "id": "paperback-findings",
   "metadata": {
    "deletable": false,
    "editable": false,
    "nbgrader": {
     "cell_type": "code",
     "checksum": "a6319702e3154ef6bfae16bbaf487327",
     "grade": true,
     "grade_id": "cell-eaf5c162f5eaa4a0",
     "locked": true,
     "points": 0,
     "schema_version": 3,
     "solution": false,
     "task": false
    }
   },
   "outputs": [],
   "source": [
    "factor = 2\n",
    "my_vi, my_angle = task2(tfinal1 / factor)\n",
    "print (f\"Initial velocity: {my_vi} m/s, angle: {my_angle} degrees.\")\n",
    "\n",
    "tfinal2, xfinal2 = task1(my_vi, my_angle)\n",
    "print (f\"Flight time: {tfinal2} s.\")\n",
    "print (f\"Final x displacement: {xfinal2} m.\")\n",
    "\n",
    "print (f\"Task1 flight time: {tfinal1} s, task2 flight time: {tfinal2} s, ratio: {tfinal1/tfinal2}\")\n",
    "diff = np.abs(factor - tfinal1/tfinal2)\n",
    "print (f\"{diff=}\")\n",
    "assert diff < 0.01 * factor"
   ]
  },
  {
   "cell_type": "markdown",
   "id": "statistical-hunter",
   "metadata": {
    "deletable": false,
    "editable": false,
    "nbgrader": {
     "cell_type": "markdown",
     "checksum": "221ffdfe3457e8fc2e52d3d6d763cf36",
     "grade": false,
     "grade_id": "cell-e8662a461b93f1e4",
     "locked": true,
     "schema_version": 3,
     "solution": false,
     "task": false
    }
   },
   "source": [
    "## Task 3: 10 pts\n",
    "\n",
    "Make an animation showing the flight of both baseballs (i.e., x displacement on x axis and y displacement on y axis). Time it so the slower ball launches first, followed by the faster ball, and they land at the same time.\n",
    "\n",
    "The axes function `ax.set_aspect('equal')` (for a given axes object called `ax`) can be used to make distances the same on the x and y axes."
   ]
  },
  {
   "cell_type": "code",
   "execution_count": null,
   "id": "bf6a4afc",
   "metadata": {},
   "outputs": [],
   "source": [
    "def task3(vi, theta):\n",
    "    #Decided to use a new function for task 3 to create full arrays for each ball\n",
    "    #Arrays were filled with positions and velocity for animation\n",
    "    #Could of done animation on the fly for better performance but this method still works well enough\n",
    "\n",
    "    \n",
    "    vx = vi * np.cos(np.radians(theta))\n",
    "    vy = vi * np.sin(np.radians(theta))\n",
    "    \n",
    "    fi = np.array([0,1,vx,vy])\n",
    "    tvalues = np.linspace(0,10,1000)\n",
    "    \n",
    "    sol = solve_ivp(projectile_motion_drag, (0, 10), fi,t_eval = tvalues,events=(y_distance), dense_output=True)\n",
    "\n",
    "    return np.array((sol.y[0],sol.y[1]))"
   ]
  },
  {
   "cell_type": "code",
   "execution_count": null,
   "id": "impressed-driver",
   "metadata": {
    "deletable": false,
    "nbgrader": {
     "cell_type": "code",
     "checksum": "3e1bb085d1f1c806537e403d31032ee2",
     "grade": false,
     "grade_id": "cell-3891e27da0aec973",
     "locked": false,
     "schema_version": 3,
     "solution": true,
     "task": false
    },
    "scrolled": true
   },
   "outputs": [],
   "source": [
    "from matplotlib import animation\n",
    "from IPython.display import HTML\n",
    "\n",
    "#Hard coded but could be implemented generally\n",
    "array1 = task3(50,42)\n",
    "array = task3(my_vi,my_angle)\n",
    "\n",
    "N = len(array1[0]) - len(array[0])\n",
    "\n",
    "#Made first elements for faster ball 0 so it starts when slower ball is halfway\n",
    "a = np.concatenate((np.zeros(N),array[0]),axis = 0) \n",
    "b = np.concatenate((np.zeros(N),array[1]),axis = 0)\n",
    "array2 = np.array((a,b))\n",
    "\n",
    "#have to set initial conditions\n",
    "array2[1][0] = 1\n",
    "\n",
    "#plot statements\n",
    "fig, ax = plt.subplots()\n",
    "ax.set_ylim(0,50)\n",
    "ax.set_xlim(0,130)\n",
    "ax.set_xlabel(\"X displacement (m)\")\n",
    "ax.set_ylabel(\"Y displacement (m)\")\n",
    "ax.set_aspect(\"equal\")\n",
    "line, = ax.plot([], [], lw=2)\n",
    "\n",
    "patch1 = plt.Circle((5, -5), 1.5, fc='y')\n",
    "patch2 = plt.Circle((5, -5), 1.5, fc='b')\n",
    "\n",
    "#create array of patches\n",
    "patches = []\n",
    "patches.append(patch1)\n",
    "patches.append(patch2)\n",
    "\n",
    "#initalise patches in patch array\n",
    "def init():\n",
    "    for i in patches:\n",
    "        i.center = (0, 1)\n",
    "        ax.add_patch(i)\n",
    "    return patches\n",
    "\n",
    "#using arrays, animate the balls\n",
    "def animate(i):\n",
    "    patches[0].center = array1[0][i],array1[1][i]\n",
    "    patches[1].center = array2[0][i],array2[1][i]\n",
    "    return patches\n",
    "\n",
    "anim = animation.FuncAnimation(fig, animate, \n",
    "                               init_func=init, \n",
    "                               frames=540, \n",
    "                               interval=20,\n",
    "                               blit=True)\n",
    "\n",
    "HTML(anim.to_jshtml())"
   ]
  },
  {
   "cell_type": "markdown",
   "id": "complete-rescue",
   "metadata": {
    "deletable": false,
    "editable": false,
    "nbgrader": {
     "cell_type": "markdown",
     "checksum": "dfc27442d8f0822570961655b3412a57",
     "grade": false,
     "grade_id": "cell-2a3f8f920c23c2c6",
     "locked": true,
     "schema_version": 3,
     "solution": false,
     "task": false
    }
   },
   "source": [
    "## Problem 2: harmonics of the square wave (25 pts)\n",
    "\n",
    "A square wave is composed of a fundamental tone (at wavenumber $\\omega=1$) and a series of harmonics at odd wavenumbers. The amplitudes of the harmonics obey the following relation:\n",
    "\n",
    "$\n",
    "\\begin{align}\n",
    "\\large\n",
    "\\frac{|c_k(\\omega=3,5,7,...)|}{|c_k(\\omega=1)|} \\propto \\omega^{\\alpha},\n",
    "\\end{align}\n",
    "$\n",
    "\n",
    "where $c_k(\\omega)$ are the Fourier coefficients as a function of wavenumber of the square wave and $\\alpha$ is a constant. $c_k(\\omega=1)$ is the Fourier coefficient of the fundamental tone, i.e., at $\\omega=1$.\n",
    "\n",
    "In the cell below, you are given a square wave signal."
   ]
  },
  {
   "cell_type": "code",
   "execution_count": null,
   "id": "fifty-boards",
   "metadata": {
    "deletable": false,
    "editable": false,
    "nbgrader": {
     "cell_type": "code",
     "checksum": "f45e60654d070fd8a081a717f921fdcb",
     "grade": false,
     "grade_id": "cell-127fa47289d2173f",
     "locked": true,
     "schema_version": 3,
     "solution": false,
     "task": false
    },
    "scrolled": false
   },
   "outputs": [],
   "source": [
    "from scipy import signal\n",
    "\n",
    "tsqu = np.linspace(0, 20*np.pi, 1001)\n",
    "ysqu = signal.square(tsqu)\n",
    "\n",
    "plt.plot(tsqu, ysqu)\n",
    "plt.xlabel('t')\n",
    "plt.ylabel('f(t)')\n",
    "plt.title('square wave')\n",
    "plt.show()"
   ]
  },
  {
   "cell_type": "markdown",
   "id": "hundred-ready",
   "metadata": {
    "deletable": false,
    "editable": false,
    "nbgrader": {
     "cell_type": "markdown",
     "checksum": "4852559df4836b09573da3381bf69756",
     "grade": false,
     "grade_id": "cell-dbc691b33b5d2f8e",
     "locked": true,
     "schema_version": 3,
     "solution": false,
     "task": false
    }
   },
   "source": [
    "## Task 1: 20 pts\n",
    "\n",
    "In the cell below, use the square wave signal define above to calculate the value of $\\alpha$ from the previous expression. Do this by taking the FFT of the signal, locating the peaks at the harmonics, and fitting a curve to them. Do this in the cell below. Your code should print out the value of $\\alpha$ and be within 1% of the correct answer.\n",
    "\n",
    "You may find the `scipy.signal.find_peaks` function useful."
   ]
  },
  {
   "cell_type": "code",
   "execution_count": null,
   "id": "de1a4f19",
   "metadata": {},
   "outputs": [],
   "source": [
    "#Create function to be used for optimisation\n",
    "def model_func(x,a):\n",
    "    return x**a "
   ]
  },
  {
   "cell_type": "code",
   "execution_count": null,
   "id": "complex-strength",
   "metadata": {
    "deletable": false,
    "nbgrader": {
     "cell_type": "code",
     "checksum": "00a1a40633dca4b1bf648a510b3c92ce",
     "grade": false,
     "grade_id": "cell-6d4deb3fcbde1fc9",
     "locked": false,
     "schema_version": 3,
     "solution": true,
     "task": false
    }
   },
   "outputs": [],
   "source": [
    "from scipy import optimize\n",
    "\n",
    "#fourier transform\n",
    "ck = np.fft.rfft(ysqu)\n",
    "\n",
    "#find the peaks\n",
    "peaks, _ = signal.find_peaks(abs(ck))\n",
    "wn = (2 * np.pi / np.max(tsqu)) * np.arange(ck.size)\n",
    "\n",
    "#using equation given calculate the x and y data\n",
    "ydata = abs(ck[peaks[1:]])/abs(ck[peaks[0]])\n",
    "xdata = wn[peaks[1:]]\n",
    "\n",
    "#optimise to find parameter alpha\n",
    "popt,pcov = optimize.curve_fit(model_func,xdata,ydata)\n",
    "print(popt[0])\n"
   ]
  },
  {
   "cell_type": "markdown",
   "id": "thorough-penalty",
   "metadata": {
    "deletable": false,
    "editable": false,
    "nbgrader": {
     "cell_type": "markdown",
     "checksum": "44f58543b870e9810f88ff68c32ff2b9",
     "grade": false,
     "grade_id": "cell-e12caceaf25eef79",
     "locked": true,
     "schema_version": 3,
     "solution": false,
     "task": false
    }
   },
   "source": [
    "## Task 2: 5 pts\n",
    "\n",
    "Plot the amplitude spectrum of the square wave signal vs. wavenumber, $\\omega$. This should show the harmonics occuring at odd values of $\\omega$, i.e., 1, 3, 5, 7... Include on the plot the locations of the harmonics, denoted by circles. Plot a curve that fits $\\omega$ and amplitude of the harmonics. Plot this in log-log to better illustrate the relation between $\\omega$ and amplitude. Include all appropriate labels, legends, etc."
   ]
  },
  {
   "cell_type": "code",
   "execution_count": null,
   "id": "pharmaceutical-holly",
   "metadata": {
    "deletable": false,
    "nbgrader": {
     "cell_type": "code",
     "checksum": "8727587b2802c95add92794d1cd1d782",
     "grade": false,
     "grade_id": "cell-9bfa0d0732622f8f",
     "locked": false,
     "schema_version": 3,
     "solution": true,
     "task": false
    }
   },
   "outputs": [],
   "source": [
    "#plot statements\n",
    "plt.plot(wn,abs(ck),label=\"$c_{k}$\")\n",
    "plt.plot(peaks/10,abs(ck[peaks]),\"o\",label = \"harmonic positions\")\n",
    "plt.plot(wn[wn>=1],abs(ck[peaks[0]]) *model_func(wn[wn>=1],popt),label = \"Fitted curve\")\n",
    "\n",
    "plt.xlabel(\"$Wave number, \\omega$\")\n",
    "plt.ylabel(\"Amplitude spectrum\")\n",
    "plt.legend()\n",
    "plt.show()"
   ]
  },
  {
   "cell_type": "code",
   "execution_count": null,
   "id": "5f0d199b",
   "metadata": {},
   "outputs": [],
   "source": [
    "#Decided to plot two different graphs as wasnt sure which one was wanted\n",
    "fig, (ax1, ax2) = plt.subplots(1, 2, figsize=(16, 6))\n",
    "\n",
    "ax1.loglog(wn[peaks],abs(ck[peaks[0]])*model_func(wn[peaks],popt))\n",
    "ax1.set_title('Without wavenumber amplitudes')\n",
    "ax1.xaxis.set_label_text('$Wave number, \\omega$')\n",
    "ax1.yaxis.set_label_text('Amplitude')\n",
    "\n",
    "ax2.loglog(wn,abs(ck),label=\"$c_{k}$\")\n",
    "ax2.loglog(wn[peaks],abs(ck[peaks[0]])*model_func(wn[peaks],popt))\n",
    "ax2.set_title('With wavenumber amplitudes')\n",
    "ax2.xaxis.set_label_text('$Wave number, \\omega$')\n",
    "ax2.yaxis.set_label_text('Amplitude')\n",
    "\n",
    "plt.show()"
   ]
  },
  {
   "cell_type": "markdown",
   "id": "electric-shield",
   "metadata": {
    "deletable": false,
    "editable": false,
    "nbgrader": {
     "cell_type": "markdown",
     "checksum": "6e438cdd127a822c7148b29e64fe6447",
     "grade": false,
     "grade_id": "cell-2690e6cf7311cf4d",
     "locked": true,
     "schema_version": 3,
     "solution": false,
     "task": false
    }
   },
   "source": [
    "## Problem 3: the solar cycle (25 pts)\n",
    "\n",
    "The number of sunspots visible on the Sun is known to have cyclic behavior. The data file, \"sunspots.txt\" (included with the checkpoint), contains counts of the number of sunspots per month since 1749. The data contains two columns:\n",
    "1. the time in years denoting the mid-point of the month\n",
    "2. the number of sunspots observed in that month\n",
    "\n",
    "## Task 1: 10 pts\n",
    "\n",
    "In the cell below, write a code to compute the period of the primary mode of the solar cycle (i.e., the period corresponding to the highest peak in the amplitude spectrum, excluding the peak at $k=0$). Your code should print out the value of the period in years to within 0.2 years of the correct answer (as computed with this method)."
   ]
  },
  {
   "cell_type": "code",
   "execution_count": null,
   "id": "knowing-naples",
   "metadata": {
    "deletable": false,
    "nbgrader": {
     "cell_type": "code",
     "checksum": "90790abbd1843f413ca0e461ed859561",
     "grade": false,
     "grade_id": "cell-d66dd93362a2a6de",
     "locked": false,
     "schema_version": 3,
     "solution": true,
     "task": false
    }
   },
   "outputs": [],
   "source": [
    "#extract data from file\n",
    "time = np.loadtxt(\"sunspots.txt\",usecols = 0)\n",
    "sun_num = np.loadtxt(\"sunspots.txt\",usecols = 1)\n",
    "\n",
    "#create freq series and fourier arrays\n",
    "freq = np.fft.rfftfreq(sun_num.size, 1/12)\n",
    "ak = np.fft.rfft(sun_num)\n",
    "\n",
    "#find the maximum above a certain value\n",
    "maximum = np.max(abs(ak[0.05<freq]))\n",
    "peak = freq[abs(ak)==maximum]\n",
    "\n",
    "#calculate the peak\n",
    "period = 1/peak[0]\n",
    "print(period)"
   ]
  },
  {
   "cell_type": "markdown",
   "id": "arctic-mambo",
   "metadata": {
    "deletable": false,
    "editable": false,
    "nbgrader": {
     "cell_type": "markdown",
     "checksum": "1d5832dc53184c0eb02f348a1a86e4a9",
     "grade": false,
     "grade_id": "cell-efa5bbd08c63ad87",
     "locked": true,
     "schema_version": 3,
     "solution": false,
     "task": false
    }
   },
   "source": [
    "## Task 2: 10 pts\n",
    "\n",
    "Using the period calculated previously, predict the time of the next solar maximum (i.e., the next time in the future when the number of sunspots will peak). Do this by creating a filter to include only the 30 closest values on each side of the peak. Create a new signal from the filtered Fourier coefficients and locate the last maximum. Use this to predict the time of the next maximum. Your code should print the month and year of the next maximum. Your answer should be accurate to within 2 months of the correct answer (as computed by this method).\n",
    "\n",
    "Note, this method does not correctly calculate the time of the last peak, so your prediction will differ with the real prediction."
   ]
  },
  {
   "cell_type": "code",
   "execution_count": null,
   "id": "antique-peace",
   "metadata": {
    "deletable": false,
    "nbgrader": {
     "cell_type": "code",
     "checksum": "b8f3fcc9b08f2e40ed1b1e041ac6160c",
     "grade": false,
     "grade_id": "cell-4a4a4e20a74e9a41",
     "locked": false,
     "schema_version": 3,
     "solution": true,
     "task": false
    }
   },
   "outputs": [],
   "source": [
    "#find the indice of the peak\n",
    "find = np.nonzero(freq == peak)\n",
    "indice = find[0][0]\n",
    "\n",
    "#set everything above 30 and below 25 (30 is below 0) to 0 on either side of peak\n",
    "ak[:indice-25] = 0\n",
    "ak[indice+31:] = 0\n",
    "\n",
    "#inverse fourier transform\n",
    "ynew = np.fft.irfft(ak)\n",
    "\n",
    "#find the last peak\n",
    "peaks, _ = signal.find_peaks(ynew)\n",
    "x = peaks[-1]\n",
    "x2 = ynew[x]\n",
    "time_peaks = time[ynew == x2]\n",
    "\n",
    "#calculate the time of the next peak\n",
    "time_passed = time[-1] - time_peaks\n",
    "time_to_go = period - time_passed\n",
    "next_peak = time[-1] + time_to_go\n",
    "\n",
    "#print statements convert to months and years\n",
    "year = np.floor(next_peak)\n",
    "month = (next_peak[0] - year[0]) * 12\n",
    "print(\"Full output: \" + str(next_peak[0]))\n",
    "print(\"Year: \" +str(int(year[0])))\n",
    "print(\"Month: \" +str(round(month,6))+ \" or March\")\n"
   ]
  },
  {
   "cell_type": "markdown",
   "id": "fresh-european",
   "metadata": {
    "deletable": false,
    "editable": false,
    "nbgrader": {
     "cell_type": "markdown",
     "checksum": "95f8541c36539b253771fdd1f98d3470",
     "grade": false,
     "grade_id": "cell-c25f9505caca80d2",
     "locked": true,
     "schema_version": 3,
     "solution": false,
     "task": false
    }
   },
   "source": [
    "## Task 3: 5 pts\n",
    "\n",
    "Make a plot including the original data of the number of sunspots vs. time, your filtered signal from the previous task, and a vertical line denoting the predicted time of the next maximum. Include all appropriate labels, units, and legends."
   ]
  },
  {
   "cell_type": "code",
   "execution_count": null,
   "id": "corrected-norwegian",
   "metadata": {
    "deletable": false,
    "nbgrader": {
     "cell_type": "code",
     "checksum": "b0134b6cdcc2e1798e04b6b69a4e4372",
     "grade": false,
     "grade_id": "cell-ff6759becda0bb49",
     "locked": false,
     "schema_version": 3,
     "solution": true,
     "task": false
    }
   },
   "outputs": [],
   "source": [
    "plt.plot(time,sun_num,label =\"Original data\", color=\"orange\")\n",
    "plt.plot(time,ynew,label = \"Filtered data\",color =\"r\")\n",
    "plt.axvline(x=next_peak[0],label = \"Next maximum\",color = \"black\")\n",
    "\n",
    "plt.xlabel(\"Time (years)\")\n",
    "plt.ylabel(\"Number of sunspots\")\n",
    "plt.legend()\n",
    "plt.show()"
   ]
  }
 ],
 "metadata": {
  "kernelspec": {
   "display_name": "Python 3 (ipykernel)",
   "language": "python",
   "name": "python3"
  },
  "language_info": {
   "codemirror_mode": {
    "name": "ipython",
    "version": 3
   },
   "file_extension": ".py",
   "mimetype": "text/x-python",
   "name": "python",
   "nbconvert_exporter": "python",
   "pygments_lexer": "ipython3",
   "version": "3.9.12"
  }
 },
 "nbformat": 4,
 "nbformat_minor": 5
}
