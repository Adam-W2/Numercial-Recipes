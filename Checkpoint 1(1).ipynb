{
 "cells": [
  {
   "cell_type": "markdown",
   "id": "annoying-brunswick",
   "metadata": {
    "deletable": false,
    "editable": false,
    "nbgrader": {
     "cell_type": "markdown",
     "checksum": "3f2450b679a71955dfd046f29a1a53aa",
     "grade": false,
     "grade_id": "cell-7e6c8bd6940b47c7",
     "locked": true,
     "schema_version": 3,
     "solution": false,
     "task": false
    }
   },
   "source": [
    "# Checkpoint 1\n",
    "\n",
    "**Due: Tuesday, 18 October, 2022 at 11:00am BST**\n",
    "\n",
    "Total points: 100\n",
    "\n",
    "### Read This First\n",
    "1. Use the constants provided in the cells. Do not use your own constants.\n",
    "\n",
    "2. Wherever you see `raise NotImplementedError()`, remove that line and put your code there.\n",
    "\n",
    "3. Put the code that produces the output for a given task in the cell indicated. You are welcome to add as many cells as you like for imports, function definitions, variables, etc.\n",
    "\n",
    "4. Your notebook must run correctly when executed once from start to finish. Your notebook will be graded based on how it runs, not how it looks when you submit it. To test this, go to the *Kernel* menu and select *Restart & Run All*.\n",
    "\n",
    "5. Once you are happy with it, clear the output by selecting *Restart & Clear Output* from the *Kernel* menu.\n",
    "\n",
    "6. Submit through Noteable."
   ]
  },
  {
   "cell_type": "code",
   "execution_count": null,
   "id": "extreme-moses",
   "metadata": {},
   "outputs": [],
   "source": [
    "from matplotlib import pyplot as plt\n",
    "%matplotlib inline\n",
    "import numpy as np\n",
    "import time"
   ]
  },
  {
   "cell_type": "code",
   "execution_count": null,
   "id": "faced-stylus",
   "metadata": {},
   "outputs": [],
   "source": [
    "plt.rcParams['figure.figsize'] = (10, 6)\n",
    "plt.rcParams['font.size'] = 14"
   ]
  },
  {
   "cell_type": "markdown",
   "id": "eb38b78a",
   "metadata": {
    "deletable": false,
    "editable": false,
    "nbgrader": {
     "cell_type": "markdown",
     "checksum": "aeafacb6fc7a78c1c366051af9c5dc23",
     "grade": false,
     "grade_id": "cell-be0f30ea8f875921",
     "locked": true,
     "schema_version": 3,
     "solution": false,
     "task": false
    }
   },
   "source": [
    "# Problem 1 - 20 points\n",
    "\n",
    "## Interpolation\n",
    "You are given an array of x and y measurements that you need to interpolate on new locations.\n",
    "\n",
    "The file *ch1_1_data.txt* is a text file that contains two arrays of Xs and Ys in two rows that need to be interpolated. The file *ch1_1_test.txt* is a text file that contains an array of X values on which you need to evaluate the interpolated function.\n",
    "\n",
    "You will need to do the interpolation by chosing the best interpolation technique among linear interpolation, cubic splines and smoothing splines with different values of smoothing parameters.\n",
    "\n",
    "You need to write the code that\n",
    "\n",
    "* selects the best among different interpolation methods for a provided dataset.\n",
    "* returns the array of the results of evaluating the best interpolation method on the test dataset. Note, the returned array of interpolated Y values should correspond directly to the X values from the test file. That is, the first returned Y value should correspond to the first X value and so on.\n",
    "\n",
    "The resulting array will then be verified to provide a mean square error (MSE) with respect to the true values of **MSE < 0.1**, where\n",
    "\n",
    "$\n",
    "\\large\n",
    "\\begin{align}\n",
    "MSE = \\frac{1}{N} \\sum_{i=1}^{N} (y_{interp, i} - y_{true, i})^2.\n",
    "\\end{align}\n",
    "$"
   ]
  },
  {
   "cell_type": "code",
   "execution_count": null,
   "id": "d062a05f",
   "metadata": {},
   "outputs": [],
   "source": [
    "import scipy.interpolate"
   ]
  },
  {
   "cell_type": "code",
   "execution_count": null,
   "id": "0430ec16",
   "metadata": {
    "deletable": false,
    "nbgrader": {
     "cell_type": "code",
     "checksum": "b67df89d1cdf222fc3ad91d82464fd67",
     "grade": false,
     "grade_id": "p1-answer",
     "locked": false,
     "schema_version": 3,
     "solution": true,
     "task": false
    }
   },
   "outputs": [],
   "source": [
    "def solve_task1():\n",
    "    \"\"\"\n",
    "    This function needs select the best interpolation method for provided data  \n",
    "    and return the numpy array of interpolated values at the locations specified in test.txt\n",
    "    \"\"\"\n",
    "    #opens and reads file to put data into two lists\n",
    "    f1 = open(\"ch1_1_data.txt\",\"r\")\n",
    "    data = [line.strip() for line in f1]\n",
    "    xdata_list = list(map(float,data[0].split()))\n",
    "    ydata_list = list(map(float,data[1].split()))\n",
    "    \n",
    "    #converts lists into numpy arrays\n",
    "    X = np.array(xdata_list)\n",
    "    Y = np.array(ydata_list)\n",
    "    \n",
    "    #same thing as above for test data\n",
    "    f2 = open(\"ch1_1_test.txt\", \"r\")\n",
    "    data = [line.strip() for line in f2]\n",
    "    testdata = np.array(list(map(float,data)))\n",
    "    \n",
    "    #sorts data arrays\n",
    "    ind = np.argsort(X)\n",
    "    Xsort = X[ind]\n",
    "    Ysort = Y[ind]\n",
    "    \n",
    "    #all values needed for computation of errors, the smoothing parameter was obtained through trial and error\n",
    "    smooth = 0.173\n",
    "    nsplit = 3 \n",
    "    N = len(Xsort)\n",
    "    pos = np.arange(len(Xsort))\n",
    "    ret1 = 0\n",
    "    ret2 = 0\n",
    "    ret3 = 0\n",
    "    \n",
    "    #splits data into 3 sets and compares\n",
    "    for i in range(nsplit):\n",
    "        testsubset = pos%nsplit ==i \n",
    "        fitsubset = ~testsubset \n",
    "        curx = Xsort[fitsubset]\n",
    "        cury = Ysort[fitsubset]\n",
    "        testx = Xsort[testsubset]\n",
    "        testy = Ysort[testsubset]\n",
    "        \n",
    "        Int1 = scipy.interpolate.UnivariateSpline(curx, cury, s = smooth) #.173 best 0.10225809269031416\n",
    "        Int2 = scipy.interpolate.interp1d(curx, cury)\n",
    "        Int3 = scipy.interpolate.CubicSpline(curx, cury)\n",
    "        \n",
    "        ret1 = ret1 + np.mean((Int1(testx) - testy)**2)\n",
    "        ret2 = ret2 + np.mean((Int2(np.clip(testx,curx[0],curx[-1])) - testy)**2)\n",
    "        ret3 = ret3 + np.mean((Int3(testx) - testy)**2)\n",
    "        \n",
    "    ret1 =ret1/nsplit\n",
    "    ret2 =ret2/nsplit\n",
    "    ret3 =ret3/nsplit\n",
    "    \n",
    "    #if statements determining best interpolation method\n",
    "    if ret1 < ret2 and ret1 < ret3:\n",
    "        Int1 = scipy.interpolate.UnivariateSpline(Xsort,Ysort, s = smooth)\n",
    "        return Int1(testdata)\n",
    "    elif ret2 < ret1 and ret2 < ret3:\n",
    "        Int2 = scipy.interpolate.interp1d(Xsort, Ysort)\n",
    "        return Int2(testdata)\n",
    "    else:\n",
    "        Int3 = scipy.interpolate.CubicSpline(Xsort, Ysort)\n",
    "        return Int3(testdata)"
   ]
  },
  {
   "cell_type": "markdown",
   "id": "fitting-collaboration",
   "metadata": {
    "deletable": false,
    "editable": false,
    "nbgrader": {
     "cell_type": "markdown",
     "checksum": "3ca88332f0c742cd8cfde4b64b449168",
     "grade": false,
     "grade_id": "cell-73904f7eb0cf0357",
     "locked": true,
     "schema_version": 3,
     "solution": false,
     "task": false
    }
   },
   "source": [
    "We will add tests to the cell below when grading."
   ]
  },
  {
   "cell_type": "code",
   "execution_count": null,
   "id": "orange-incidence",
   "metadata": {
    "deletable": false,
    "editable": false,
    "nbgrader": {
     "cell_type": "code",
     "checksum": "4fd7f981553f9bc9e960a1eaa31e84c5",
     "grade": true,
     "grade_id": "p1-test",
     "locked": true,
     "points": 0,
     "schema_version": 3,
     "solution": false,
     "task": false
    }
   },
   "outputs": [],
   "source": [
    "# This function will be tested with this \n",
    "# assert ( np.mean((solve_task1()- YTRUE )**2) < 0.1)\n",
    "\n",
    "print (\"Testing, testing...\")\n",
    "\n"
   ]
  },
  {
   "cell_type": "markdown",
   "id": "appropriate-arrival",
   "metadata": {
    "deletable": false,
    "editable": false,
    "nbgrader": {
     "cell_type": "markdown",
     "checksum": "f51367b5123ec1532067d7eca3760abe",
     "grade": false,
     "grade_id": "cell-6b2a06078effc715",
     "locked": true,
     "schema_version": 3,
     "solution": false,
     "task": false
    }
   },
   "source": [
    "# Problem 2 - 80 points\n",
    "\n",
    "This problem is divided into 5 tasks, worth the following point values:\n",
    "\n",
    "1. 20 points\n",
    "2. 15 points\n",
    "3. 15 points\n",
    "4. 20 points\n",
    "5. 10 points\n",
    "\n",
    "## The 1D time-independent Schrödinger equation\n",
    "\n",
    "In one dimension, the time-independent Schrödinger equation is given by\n",
    "\n",
    "$\n",
    "\\large\n",
    "\\begin{align}\n",
    "\\mathbf{H}\\ \\mathbf{\\Psi} = E\\ \\mathbf{\\Psi}\n",
    "\\end{align}\n",
    "$,\n",
    "\n",
    "where $\\mathbf{H}$ is the Hamiltonian. Here, $E$ and $\\mathbf{\\Psi}$ are the eigenvectors and eigenvalues of $\\mathbf{H}$, respectively. The Hamiltonian is expressed as\n",
    "\n",
    "$\n",
    "\\Large\n",
    "\\begin{align}\n",
    "H = -\\frac{\\hbar^2}{2m} \\nabla^2 + V(r),\n",
    "\\end{align}\n",
    "$\n",
    "\n",
    "where $V(r)$ is the electric potential energy, given by\n",
    "\n",
    "$\n",
    "\\Large\n",
    "\\begin{align}\n",
    "V(r) = -\\frac{e^{2}}{4 \\pi \\epsilon_{0} r}.\n",
    "\\end{align}\n",
    "$\n",
    "\n",
    "In matrix form, the Schrödinger equation is solved for N equally spaced values of r, such that r goes from ($r_{max}$/N) to $r_{max}$, where $r_{max} \\sim 1.5$ nm is a sensible choice. To turn the Schrödinger equation into a matrix, $\\textbf{V(r)}$ should be a diagonal matrix with the values of the potential at each r along the diagonal.\n",
    "\n",
    "For this problem, the constants for the above equations have been defined for you in the cell below. Please use these for your calculations.\n",
    "* $\\frac{\\hbar^{2}}{2m} = 0.0380998\\ nm^{2} eV$ (called `c1` below)\n",
    "* $\\frac{e^{2}}{4 \\pi \\epsilon_{0}} = 1.43996\\ nm\\ eV$ (called `c2` below)\n",
    "* $r_{0} = 0.0529177\\ nm$ (the Bhor radius, called `r0` below)\n",
    "* Planck constant $h = 6.62606896\\times10^{-34} J s$ (`h`)\n",
    "* Speed of light $c = 299792458\\ m/s$ (`c`)"
   ]
  },
  {
   "cell_type": "code",
   "execution_count": null,
   "id": "frank-davis",
   "metadata": {},
   "outputs": [],
   "source": [
    "# Constants (use these)\n",
    "c1 = 0.0380998 # nm^2 eV\n",
    "c2 = 1.43996 # nm eV\n",
    "r0 = 0.0529177 # nm\n",
    "h  = 6.62606896e-34 # J s\n",
    "c  = 299792458. # m/s\n",
    "hc = 1239.8419 # eV nm"
   ]
  },
  {
   "cell_type": "markdown",
   "id": "happy-methodology",
   "metadata": {
    "deletable": false,
    "editable": false,
    "nbgrader": {
     "cell_type": "markdown",
     "checksum": "96bcb3e0765c26d6d181b60ffe488aab",
     "grade": false,
     "grade_id": "cell-268fb1e71c1478e4",
     "locked": true,
     "schema_version": 3,
     "solution": false,
     "task": false
    }
   },
   "source": [
    "# Task 1 - 20 points\n",
    "\n",
    "For this task, you will create the matrix representing $\\mathbf{H}$ and find the two lowest eigenvalues. These correspond to the two lowest energy levels of the Hydrogen atom.\n",
    "\n",
    "In the constants defined above, the theoretical values for the first two energy levels are given by\n",
    "\n",
    "$\n",
    "\\Large\n",
    "\\begin{align}\n",
    "e_{n} = \\frac{c_2}{2 r_0 n^2},\n",
    "\\end{align}\n",
    "$\n",
    "\n",
    "where $r_{0}$ is the Bhor radius, given by\n",
    "\n",
    "$\n",
    "\\Large\n",
    "\\begin{align}\n",
    "r_{0} = \\frac{4 \\pi \\epsilon_{0} \\hbar^{2}}{m e^{2}}.\n",
    "\\end{align}\n",
    "$\n",
    "\n",
    "In the cells below, write a function that creates a matrix representing the Hamiltonian and returns the two lowest eigenvalues. **This function should take a single argument, N, for the size of the matrix.**\n",
    "\n",
    "Use your function to determine the minimum value of N (within a factor of 2) required to compute the two lowest energy levels to within **0.05\\%** of the theoretical values. Print the values of the two energy levels and the error for each, where the error is $abs((E_{calc} - E_{theo}) / E_{theo})$. $E_{calc}$ is the calculated value and $E_{theo}$ is the theoretical value. **Note, your code should iteratively call your function while increasing N (e.g., doubling it each time) and stop when the desired error is reached. It is not sufficient to simply run the code at a single value of N that meets the criteria.**"
   ]
  },
  {
   "cell_type": "code",
   "execution_count": null,
   "id": "1b575201",
   "metadata": {},
   "outputs": [],
   "source": [
    "from scipy import sparse\n",
    "from scipy.sparse import linalg as splinalg"
   ]
  },
  {
   "cell_type": "code",
   "execution_count": null,
   "id": "individual-coverage",
   "metadata": {
    "deletable": false,
    "nbgrader": {
     "cell_type": "code",
     "checksum": "e87b1dd5ee5f2abdad0b56b410ec1114",
     "grade": false,
     "grade_id": "p2t1-answer",
     "locked": false,
     "schema_version": 3,
     "solution": true,
     "task": false
    }
   },
   "outputs": [],
   "source": [
    "def hamiltonian(N):\n",
    "    #When provided with N creates a N by N hamiltonian which is then solved for its eigenvalues\n",
    "    rmax = 1.5\n",
    "    r = np.linspace(rmax/N,rmax,N)\n",
    "    \n",
    "    #hamiltonian using diags function\n",
    "    K = ((N/rmax)**2) * sparse.diags([1,-2,1],[-1,0,1],shape = (N,N))\n",
    "    V = sparse.diags([c2/r],[0],shape = (N,N))\n",
    "    H = -c1 * K - V\n",
    "    \n",
    "    #use of scipy.sparce.eigsh to calculate eigenvalues\n",
    "    eigval, eigvec = splinalg.eigsh(H, k = 2, which = \"SA\")\n",
    "    eig_1 = eigval[0]\n",
    "    eig_2 = eigval[1]\n",
    "    return eig_1, eig_2"
   ]
  },
  {
   "cell_type": "code",
   "execution_count": null,
   "id": "98f283fc",
   "metadata": {},
   "outputs": [],
   "source": [
    "N = 3\n",
    "e1 = -c2/(2*r0*1)\n",
    "e2 = -c2/(2*r0*4)\n",
    "X = 0\n",
    "\n",
    "#while loop to calculate eigen values and error at increasing N\n",
    "while X == 0:    \n",
    "    e1calc, e2calc = hamiltonian(N)\n",
    "    \n",
    "    error1 = abs((e1calc - e1)/e1)\n",
    "    error2 = abs((e2calc - e2)/e2)\n",
    "    \n",
    "    if error1 < 0.0005 and error2 < 0.0005:\n",
    "        X = 1\n",
    "    else:\n",
    "        N = N*2\n",
    "\n",
    "#print statements\n",
    "print(\"Energy for n = 1: \" + str(e1calc))\n",
    "print(\"Error for n = 1: \" + str(error1))\n",
    "print(\"Energy for n = 2: \" + str(e2calc))\n",
    "print(\"Error for n = 2: \" + str(error2))"
   ]
  },
  {
   "cell_type": "markdown",
   "id": "piano-flashing",
   "metadata": {
    "deletable": false,
    "editable": false,
    "nbgrader": {
     "cell_type": "markdown",
     "checksum": "1dc54fc537b9404168fc707f6481e0c1",
     "grade": false,
     "grade_id": "cell-c1ac14c82e6bbffe",
     "locked": true,
     "schema_version": 3,
     "solution": false,
     "task": false
    }
   },
   "source": [
    "## Task 2 - 15 points\n",
    "\n",
    "Now, imagine the Coulomb law has a minor modification to it, and is now given by:\n",
    "\n",
    "$\n",
    "\\Large\n",
    "\\begin{align}\n",
    "F(r) = -\\frac{e^{2}}{4 \\pi \\epsilon_{0} r^{2}} \\left( \\frac{r}{r_{0}} \\right)^{\\alpha},\n",
    "\\end{align}\n",
    "$\n",
    "\n",
    "where $\\alpha = 0.01$ and $r_{0}$ is the Bhor radius, given by:\n",
    "\n",
    "$\n",
    "\\Large\n",
    "\\begin{align}\n",
    "r_{0} = \\frac{4 \\pi \\epsilon_{0} \\hbar^{2}}{m e^{2}}.\n",
    "\\end{align}\n",
    "$\n",
    "\n",
    "The electric potential is given by:\n",
    "\n",
    "$\n",
    "\\Large\n",
    "\\begin{align}\n",
    "V(r) = \\int_{r}^{\\infty} F(r^{\\prime}) dr^{\\prime}\n",
    "\\end{align}\n",
    "$\n",
    "\n",
    "Using the constants defined previously, write a function to calculate V(r) using the modified Coulomb law by numerically integrating the equation above. This function need only accept a single value of radius and not an entire array. Your function must agree with the analytical value to within $10^{-5}$ eV.\n",
    "\n",
    "Your function should go in the cell below using the template for `potential_numerical`.\n",
    "\n",
    "In another cell, make a plot of V(r) over the range of r values used in Task 1. Remember to label axes and show units."
   ]
  },
  {
   "cell_type": "code",
   "execution_count": null,
   "id": "01c15825",
   "metadata": {},
   "outputs": [],
   "source": [
    "from scipy import integrate"
   ]
  },
  {
   "cell_type": "code",
   "execution_count": null,
   "id": "15642148",
   "metadata": {},
   "outputs": [],
   "source": [
    "#function previously stated but into code form\n",
    "def my_function(r,alpha):\n",
    "    return -c2/(r**2) * (r/r0) ** alpha"
   ]
  },
  {
   "cell_type": "code",
   "execution_count": null,
   "id": "stunning-institute",
   "metadata": {
    "deletable": false,
    "nbgrader": {
     "cell_type": "code",
     "checksum": "4d52cec8ae58d94a6e020c8c5fc1d2c3",
     "grade": false,
     "grade_id": "p2t2-answer",
     "locked": false,
     "schema_version": 3,
     "solution": true,
     "task": false
    }
   },
   "outputs": [],
   "source": [
    "#takes function and with a given r and alpha computes the potential\n",
    "def potential_numerical(r, alpha):\n",
    "    V, error = scipy.integrate.quad(my_function,r,np.inf,args = (alpha))\n",
    "    return V"
   ]
  },
  {
   "cell_type": "markdown",
   "id": "female-methodology",
   "metadata": {
    "deletable": false,
    "editable": false,
    "nbgrader": {
     "cell_type": "markdown",
     "checksum": "bd30d690274cad5f6a29d6295448f9fe",
     "grade": false,
     "grade_id": "cell-c74656c6ee48b39e",
     "locked": true,
     "schema_version": 3,
     "solution": false,
     "task": false
    }
   },
   "source": [
    "The cell below will test your function for a few values of radius."
   ]
  },
  {
   "cell_type": "code",
   "execution_count": null,
   "id": "known-stations",
   "metadata": {
    "deletable": false,
    "editable": false,
    "nbgrader": {
     "cell_type": "code",
     "checksum": "d35fbd28772bfd93f9785dc8ea3bd619",
     "grade": true,
     "grade_id": "p2t2-test",
     "locked": true,
     "points": 0,
     "schema_version": 3,
     "solution": false,
     "task": false
    }
   },
   "outputs": [],
   "source": [
    "def potential_exact(r, alpha):\n",
    "    return c2*np.power(r,alpha-1)*np.power(r0,-alpha) / (alpha-1)\n",
    "\n",
    "for my_r in np.linspace(0.01, 1, 100):\n",
    "    diff = abs(potential_numerical(my_r, 0.01) - potential_exact(my_r, 0.01))\n",
    "    assert(diff <= 1e-5)"
   ]
  },
  {
   "cell_type": "markdown",
   "id": "mechanical-polls",
   "metadata": {
    "deletable": false,
    "editable": false,
    "nbgrader": {
     "cell_type": "markdown",
     "checksum": "42d5815be4020709219ea0381c001931",
     "grade": false,
     "grade_id": "cell-484fe07f737ba396",
     "locked": true,
     "schema_version": 3,
     "solution": false,
     "task": false
    }
   },
   "source": [
    "Plot V(r) in the cell below."
   ]
  },
  {
   "cell_type": "code",
   "execution_count": null,
   "id": "orange-robert",
   "metadata": {
    "deletable": false,
    "nbgrader": {
     "cell_type": "code",
     "checksum": "56bf09fd2364d6f3778647ec3a0fb3f9",
     "grade": false,
     "grade_id": "p2t2-plot",
     "locked": false,
     "schema_version": 3,
     "solution": true,
     "task": false
    }
   },
   "outputs": [],
   "source": [
    "#cell for plotting V(r) against r\n",
    "rmax = 1.5\n",
    "r_list = []\n",
    "V_list = []\n",
    "\n",
    "#for loop to append r and Vr values to lists\n",
    "r_range = np.linspace(rmax/N,rmax,N)\n",
    "for i in r_range:\n",
    "    V = potential_numerical(i,0.01)\n",
    "    r_list.append(i)\n",
    "    V_list.append(V)\n",
    "\n",
    "plt.plot(r_list,V_list)\n",
    "plt.xlabel(\"r (nm)\")\n",
    "plt.ylabel(\"V(r) (eV)\")\n",
    "plt.show()"
   ]
  },
  {
   "cell_type": "markdown",
   "id": "iraqi-sweden",
   "metadata": {
    "deletable": false,
    "editable": false,
    "nbgrader": {
     "cell_type": "markdown",
     "checksum": "b17c3076fc959a0cd9e28c547d1da353",
     "grade": false,
     "grade_id": "cell-51caa9b5ace2e178",
     "locked": true,
     "schema_version": 3,
     "solution": false,
     "task": false
    }
   },
   "source": [
    "## Task 3 - 15 points\n",
    "\n",
    "Write a function to calculate the first 2 energy levels (eigenvalues of $H$) for $\\alpha = 0.01$ and print out the values in eV. The values must be accurate to 0.01 eV. Use the function template `calculate_energy_levels_modified` below for your function. It is fine to call functions you've already written. \n",
    "\n",
    "In the cell after, plot the difference $\\Delta E$ between the two lowest energy levels as a function of $\\alpha$ for $\\alpha = 0$ and $0.01$. Remember axes labels and units."
   ]
  },
  {
   "cell_type": "code",
   "execution_count": null,
   "id": "87da3cd6",
   "metadata": {},
   "outputs": [],
   "source": [
    "from scipy import linalg"
   ]
  },
  {
   "cell_type": "code",
   "execution_count": null,
   "id": "incorporate-antarctica",
   "metadata": {
    "deletable": false,
    "nbgrader": {
     "cell_type": "code",
     "checksum": "ac452d547a6cbf4f6bfaa7469979501d",
     "grade": false,
     "grade_id": "p2t3-answer",
     "locked": false,
     "schema_version": 3,
     "solution": true,
     "task": false
    }
   },
   "outputs": [],
   "source": [
    "def calculate_energy_levels_modified(N, alpha):\n",
    "    #Similiar to previous energy level calculator, but with modified potential taken into account\n",
    "    rmax = 1.5\n",
    "    r = np.linspace(rmax/N,rmax,N)\n",
    "    \n",
    "    K = ((N/rmax)**2) * sparse.diags([1,-2,1],[-1,0,1],shape = (N,N)).toarray()\n",
    "    \n",
    "    #creates a list of V(r) values at the different r\n",
    "    V_list = []\n",
    "    for i in r:\n",
    "        V_list.append(potential_numerical(i,alpha))\n",
    "        \n",
    "    V = sparse.diags(V_list,shape = (N,N)).toarray()\n",
    "\n",
    "    H = (-c1 * K) + V \n",
    "    eigval = scipy.linalg.eigh(H,eigvals_only = True,subset_by_index = [0,1]) #scipy.linalg.eigh\n",
    "\n",
    "    eig_1 = eigval[0]\n",
    "    eig_2 = eigval[1]\n",
    "    \n",
    "    return eig_1, eig_2"
   ]
  },
  {
   "cell_type": "markdown",
   "id": "universal-joining",
   "metadata": {
    "deletable": false,
    "editable": false,
    "nbgrader": {
     "cell_type": "markdown",
     "checksum": "af2c8383193c38fb3c7f82c7085f3c86",
     "grade": false,
     "grade_id": "cell-210704ac6f4c83e7",
     "locked": true,
     "schema_version": 3,
     "solution": false,
     "task": false
    }
   },
   "source": [
    "The cell below will test your function against the correct values."
   ]
  },
  {
   "cell_type": "code",
   "execution_count": null,
   "id": "welsh-salvation",
   "metadata": {
    "deletable": false,
    "editable": false,
    "nbgrader": {
     "cell_type": "code",
     "checksum": "f55faa3b17e7995df7ec2e75ca4032b8",
     "grade": true,
     "grade_id": "p2t3-test",
     "locked": true,
     "points": 0,
     "schema_version": 3,
     "solution": false,
     "task": false
    }
   },
   "outputs": [],
   "source": [
    "N = 1024\n",
    "alpha = 0.01\n",
    "E1, E2 = calculate_energy_levels_modified(N, alpha)"
   ]
  },
  {
   "cell_type": "markdown",
   "id": "tracked-nation",
   "metadata": {
    "deletable": false,
    "editable": false,
    "nbgrader": {
     "cell_type": "markdown",
     "checksum": "a810a756c3652313db6100ada7066804",
     "grade": false,
     "grade_id": "cell-936bf792ceef031b",
     "locked": true,
     "schema_version": 3,
     "solution": false,
     "task": false
    }
   },
   "source": [
    "In the cell below, make the plot of $\\Delta E$ vs. $\\alpha$ as instructed above."
   ]
  },
  {
   "cell_type": "code",
   "execution_count": null,
   "id": "b90354ee",
   "metadata": {},
   "outputs": [],
   "source": [
    "#creates lists of delta E and alpha to plot\n",
    "deltaE = []\n",
    "alpha_list = np.linspace(0,0.01,5)\n",
    "\n",
    "for i in alpha_list:\n",
    "    E1,E2 = calculate_energy_levels_modified(N,i)\n",
    "    deltaE.append(abs(E2 - E1))"
   ]
  },
  {
   "cell_type": "code",
   "execution_count": null,
   "id": "secure-breakdown",
   "metadata": {
    "deletable": false,
    "nbgrader": {
     "cell_type": "code",
     "checksum": "84aa6f9312979323b057cd11c96edc71",
     "grade": false,
     "grade_id": "p2t3-plot",
     "locked": false,
     "schema_version": 3,
     "solution": true,
     "task": false
    }
   },
   "outputs": [],
   "source": [
    "plt.plot(alpha_list,deltaE)\n",
    "plt.xlabel(\"alpha\")\n",
    "plt.ylabel(\"deltaE (eV)\")\n",
    "\n",
    "plt.show()"
   ]
  },
  {
   "cell_type": "markdown",
   "id": "white-newport",
   "metadata": {
    "deletable": false,
    "editable": false,
    "nbgrader": {
     "cell_type": "markdown",
     "checksum": "7ceda21370e789097d65085703bc2ab2",
     "grade": false,
     "grade_id": "cell-5cb872bbd2dc8c06",
     "locked": true,
     "schema_version": 3,
     "solution": false,
     "task": false
    }
   },
   "source": [
    "## Task 4 - 20 points\n",
    "\n",
    "The transition between the 1st and 2nd states is known as the Lyman-$\\alpha$ transition. The photon emitted by this transition will have a wavelength, $\\lambda$, given by\n",
    "\n",
    "$\n",
    "\\Large\n",
    "\\begin{align}\n",
    "\\lambda = \\frac{hc}{\\Delta E}.\n",
    "\\end{align}\n",
    "$\n",
    "\n",
    "Imagine the wavelength of this transition has been measured as $\\lambda = 121.5 \\pm 0.1$ nm. What is the maximum value of $\\alpha > 0$ consistent with this measurement (i.e., the largest $\\alpha$ such that the predicted and measured wavelengths differ by less than 0.1 nm)?\n",
    "\n",
    "Using the template `find_alpha_max`, write a function that performs the above computation and returns the value of $\\alpha_{max}$. Your value for $\\alpha_{max}$ should be within 1% of the correct answer."
   ]
  },
  {
   "cell_type": "code",
   "execution_count": null,
   "id": "inappropriate-depth",
   "metadata": {
    "deletable": false,
    "nbgrader": {
     "cell_type": "code",
     "checksum": "9b5e5df0ada7feae010cb7634e95befb",
     "grade": false,
     "grade_id": "p2t4-answer",
     "locked": false,
     "schema_version": 3,
     "solution": true,
     "task": false
    }
   },
   "outputs": [],
   "source": [
    "def find_alpha_max():\n",
    "    #calculates the maximum value of alpha such that the difference between the predicted and measured wavelength is 0.1nm\n",
    "    N = 1024\n",
    "    lamda  = 121.5\n",
    "    alpha = 0\n",
    "    alpha_max = 0\n",
    "    step = 0.01\n",
    "    con = True\n",
    "    rep = 0\n",
    "    \n",
    "    #while statement to compute eigenvalues, calculate wavelength, then compare to measured result\n",
    "    while rep < 50:\n",
    "        E1, E2 = calculate_energy_levels_modified(N, alpha)\n",
    "        lamda_calc = hc/(E2 - E1)\n",
    "        diff = abs(lamda - lamda_calc)\n",
    "            \n",
    "        if diff < 0.1:\n",
    "            alpha_max = alpha\n",
    "            alpha = alpha + step\n",
    "        else:\n",
    "            alpha = alpha - step\n",
    "            alpha_max = alpha\n",
    "            step = step/10\n",
    "            \n",
    "        rep = rep + 1\n",
    "            \n",
    "    return alpha_max"
   ]
  },
  {
   "cell_type": "markdown",
   "id": "several-observation",
   "metadata": {
    "deletable": false,
    "editable": false,
    "nbgrader": {
     "cell_type": "markdown",
     "checksum": "029d9bb4ad970a0f3b58166038c981a4",
     "grade": false,
     "grade_id": "cell-12251fe279fb41cb",
     "locked": true,
     "schema_version": 3,
     "solution": false,
     "task": false
    }
   },
   "source": [
    "The cell below will run your function. You will not be told the correct answer."
   ]
  },
  {
   "cell_type": "code",
   "execution_count": null,
   "id": "curious-limit",
   "metadata": {
    "deletable": false,
    "editable": false,
    "nbgrader": {
     "cell_type": "code",
     "checksum": "8967ce8a95ea408dc7dd43bb3154f106",
     "grade": true,
     "grade_id": "p2t4-test",
     "locked": true,
     "points": 0,
     "schema_version": 3,
     "solution": false,
     "task": false
    }
   },
   "outputs": [],
   "source": [
    "amax = find_alpha_max()\n",
    "print (f\"alpha_max = {amax}.\")"
   ]
  },
  {
   "cell_type": "markdown",
   "id": "respiratory-nickname",
   "metadata": {
    "deletable": false,
    "editable": false,
    "nbgrader": {
     "cell_type": "markdown",
     "checksum": "8c427e3cc4396532e582db4fa871d3e6",
     "grade": false,
     "grade_id": "cell-79ad889c43725b88",
     "locked": true,
     "schema_version": 3,
     "solution": false,
     "task": false
    }
   },
   "source": [
    "## Task 5 - 10 points\n",
    "\n",
    "Knowing the shape of the matrix for of $\\textbf{H}$, is it possible to greatly increase the accuracy of the energy level calculation without a significant increase in computation time? In the cell below, write a function to compute the first two energy levels using the original (unmodified) potential. Your function should run in 15 seconds or less and compute the first two energy levels each to within an accuracy of $5\\times10^{-6}$."
   ]
  },
  {
   "cell_type": "code",
   "execution_count": null,
   "id": "6d208936",
   "metadata": {},
   "outputs": [],
   "source": [
    "from scipy.linalg import eig_banded"
   ]
  },
  {
   "cell_type": "code",
   "execution_count": null,
   "id": "loaded-detective",
   "metadata": {
    "deletable": false,
    "nbgrader": {
     "cell_type": "code",
     "checksum": "eb0ea8a77bee6538ed6e282f3593c6f8",
     "grade": false,
     "grade_id": "p2t5-answer",
     "locked": false,
     "schema_version": 3,
     "solution": true,
     "task": false
    }
   },
   "outputs": [],
   "source": [
    "def calculate_energy_levels_super():\n",
    "    #creates an array of the bands of the H matrix then calculates the eigenvalues\n",
    "    N = 16384\n",
    "    rmax = 1.5\n",
    "    r = np.linspace(rmax/N,rmax,N)\n",
    "    \n",
    "    K = (np.ones(N)* -2 * -c1 * ((N/rmax)**2)) - (np.ones(N) * c2/r)\n",
    "    K2 = np.zeros(N)\n",
    "    K2[:N-1] = -c1 * ((N/rmax)**2)\n",
    "    A = np.array([K,K2])\n",
    "    \n",
    "    w = eig_banded(A, lower=True, eigvals_only=True,select='i', select_range=[0,1])\n",
    "    w1 = w[0]\n",
    "    w2 = w[1]\n",
    "    \n",
    "    return w1,w2"
   ]
  },
  {
   "cell_type": "code",
   "execution_count": null,
   "id": "statistical-validity",
   "metadata": {
    "deletable": false,
    "editable": false,
    "nbgrader": {
     "cell_type": "code",
     "checksum": "9ef37861d20b1722978a1fa5ec9b7b72",
     "grade": true,
     "grade_id": "p2t5-test",
     "locked": true,
     "points": 0,
     "schema_version": 3,
     "solution": false,
     "task": false
    }
   },
   "outputs": [],
   "source": [
    "t1 = time.time()\n",
    "my_e1, my_e2 = calculate_energy_levels_super()\n",
    "t2 = time.time()\n",
    "print (f\"Calculation took {t2-t1} seconds.\")\n",
    "\n",
    "e1_th = -c2 / (2 * r0)\n",
    "e2_th = e1_th / 4\n",
    "\n",
    "er1 = abs((my_e1 - e1_th) / e1_th)\n",
    "er2 = abs((my_e2 - e2_th) / e2_th)\n",
    "print (f\"Err1 = {er1}, Err2 = {er2}.\")"
   ]
  }
 ],
 "metadata": {
  "kernelspec": {
   "display_name": "Python 3 (ipykernel)",
   "language": "python",
   "name": "python3"
  },
  "language_info": {
   "codemirror_mode": {
    "name": "ipython",
    "version": 3
   },
   "file_extension": ".py",
   "mimetype": "text/x-python",
   "name": "python",
   "nbconvert_exporter": "python",
   "pygments_lexer": "ipython3",
   "version": "3.9.12"
  }
 },
 "nbformat": 4,
 "nbformat_minor": 5
}
